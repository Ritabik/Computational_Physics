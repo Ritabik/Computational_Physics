{
 "cells": [
  {
   "cell_type": "code",
   "execution_count": 21,
   "metadata": {},
   "outputs": [],
   "source": [
    "from library_new import *"
   ]
  },
  {
   "cell_type": "markdown",
   "metadata": {},
   "source": [
    "# Mid-sem Exam, Ritabik Banerjee-2011127"
   ]
  },
  {
   "cell_type": "markdown",
   "metadata": {},
   "source": [
    "# 1."
   ]
  },
  {
   "cell_type": "code",
   "execution_count": 22,
   "metadata": {},
   "outputs": [
    {
     "name": "stdout",
     "output_type": "stream",
     "text": [
      "Regula-Falsi method: Root = 2.6231403379360847, Iterations = 9\n"
     ]
    }
   ],
   "source": [
    "import math\n",
    "\n",
    "# Define the function\n",
    "def equation(x):\n",
    "    return math.log(x / 2) - math.sin(5 * x / 2)\n",
    "\n",
    "# Initial interval\n",
    "a = 1.5\n",
    "b = 2.5\n",
    "\n",
    "# Solve using Regula-Falsi\n",
    "root_rf, iterations_rf = regula_falsi(equation, a, b)\n",
    "print(f\"Regula-Falsi method: Root = {root_rf}, Iterations = {iterations_rf}\")"
   ]
  },
  {
   "cell_type": "code",
   "execution_count": 23,
   "metadata": {},
   "outputs": [
    {
     "name": "stdout",
     "output_type": "stream",
     "text": [
      "Newton-Raphson method: Root = 2.6231403305142753, Iterations = 7\n"
     ]
    }
   ],
   "source": [
    "def equation_prime(x):\n",
    "    return 1 / (2 * x) - (5 / 2) * math.cos(5 * x / 2)\n",
    "\n",
    "# Initial guess\n",
    "x0 = 2.5\n",
    "\n",
    "# Solve using Newton-Raphson\n",
    "root_nr, iterations_nr = newton_raphson(equation, equation_prime, x0)\n",
    "print(f\"Newton-Raphson method: Root = {root_nr}, Iterations = {iterations_nr}\")\n"
   ]
  },
  {
   "cell_type": "markdown",
   "metadata": {},
   "source": [
    "# Here we see the number of iterations taken by newton-rhapson are less than the Regula-falsi algorithm of finding roots."
   ]
  },
  {
   "cell_type": "markdown",
   "metadata": {},
   "source": [
    "# 2."
   ]
  },
  {
   "cell_type": "code",
   "execution_count": 28,
   "metadata": {},
   "outputs": [
    {
     "name": "stdout",
     "output_type": "stream",
     "text": [
      "The length of the rod where the temperature is 100 degree is = 4.5\n"
     ]
    },
    {
     "data": {
      "text/plain": [
       "Text(0, 0.5, 'Temperature (Degree)')"
      ]
     },
     "execution_count": 28,
     "metadata": {},
     "output_type": "execute_result"
    },
    {
     "data": {
      "image/png": "[encoded data removed]",
      "text/plain": [
       "<Figure size 432x288 with 1 Axes>"
      ]
     },
     "metadata": {
      "needs_background": "light"
     },
     "output_type": "display_data"
    }
   ],
   "source": [
    "def dtdx_2(x, t, z):\n",
    "    return -0.01*(20-t)\n",
    "\n",
    "def dtdx(x, t, z):\n",
    "    return z\n",
    "\n",
    "x = 0\n",
    "T = 40\n",
    "x_f = 10\n",
    "T_f = 200\n",
    "h = 0.1\n",
    "tolerance = 1e-3\n",
    "\n",
    "X_, T_ = RKshooting_method(dtdx_2, dtdx, x, T, x_f, T_f, 10, 100, h, tolerance)\n",
    "for i in range(len(T_)):\n",
    "    if T_[i] >= 100:\n",
    "        post = i\n",
    "        break     \n",
    "print(\"The length of the rod where the temperature is 100 degree is =\", X_[post])\n",
    "\n",
    "plt.scatter(X_, T_, color='green', s=8)\n",
    "plt.xlabel('x (Position)')\n",
    "plt.ylabel('Temperature (Degree)')\n"
   ]
  },
  {
   "cell_type": "markdown",
   "metadata": {},
   "source": [
    "# 3."
   ]
  },
  {
   "cell_type": "code",
   "execution_count": 33,
   "metadata": {},
   "outputs": [],
   "source": [
    "def heat_equation(T,l_x, n_x, l_t, n_t):\n",
    "    import matplotlib.pyplot as plt\n",
    "    h_x =l_x/n_x\n",
    "    h_t = l_t/n_t\n",
    "    alpha = h_t/(h_x**2)\n",
    "    H0 = [0 for i in range(n_x+1)]\n",
    "    H1 = [0 for i in range(n_x+1)]\n",
    "    a = []\n",
    "    if alpha < 0.5:\n",
    "        for i in range(n_x+1):\n",
    "            H0[i] = (T(n_x, i))\n",
    "            a.append(i)\n",
    "    for j in range(0, 1000):\n",
    "        for i in range(1, n_x):\n",
    "            if i == 0:\n",
    "                H1[i] = (1 - 2*alpha)*H0[i] + alpha*H0[i+1]\n",
    "            elif i == n_x:\n",
    "                H1[i] = alpha*H0[i-1] + (1 - 2*alpha)*H0[i]\n",
    "            else:\n",
    "                H1[i] = alpha*H0[i-1] + (1 - 2*alpha)*H0[i] + alpha*H0[i+1]\n",
    "        for i in range(1, n_x):\n",
    "            H0[i] = H1[i]\n",
    "        if j == 0  or j == 5 or j == 10 or j == 50 or j == 100 or j == 500 or j == 1000:\n",
    "            plt.plot(a, H0)\n",
    "    plt.xlabel('x')\n",
    "    plt.ylabel('T')\n",
    "    plt.show()\n",
    "def T(n_x, i): \n",
    "    if i == n_x/2:\n",
    "        T = 300\n",
    "    else:\n",
    "        T = 0\n",
    "    return T"
   ]
  },
  {
   "cell_type": "code",
   "execution_count": 34,
   "metadata": {},
   "outputs": [
    {
     "data": {
      "image/png": "[encoded data removed]",
      "text/plain": [
       "<Figure size 432x288 with 1 Axes>"
      ]
     },
     "metadata": {
      "needs_background": "light"
     },
     "output_type": "display_data"
    }
   ],
   "source": [
    "heat_equation(T, 2, 50, 20, 100000)"
   ]
  },
  {
   "cell_type": "markdown",
   "metadata": {},
   "source": [
    "# Here is the solution of the 1-dimensional heat equation over a conducting bar."
   ]
  },
  {
   "cell_type": "markdown",
   "metadata": {},
   "source": [
    "# 4."
   ]
  },
  {
   "cell_type": "code",
   "execution_count": 18,
   "metadata": {},
   "outputs": [
    {
     "name": "stdout",
     "output_type": "stream",
     "text": [
      "The center of mass is approximately 1.5007 meters from one end.\n"
     ]
    }
   ],
   "source": [
    "import numpy as np\n",
    "\n",
    "def linear_mass_density(x):\n",
    "    return x**2\n",
    "\n",
    "def center_of_mass_numerical(lambda_function, length, num_steps=1000):\n",
    "    delta_x = length / num_steps\n",
    "    x_values = np.linspace(0, length, num_steps + 1)\n",
    "    \n",
    "    numerator = sum(x * lambda_function(x) for x in x_values)\n",
    "    denominator = sum(lambda_function(x) for x in x_values)\n",
    "    \n",
    "    center_of_mass = numerator / denominator\n",
    "    \n",
    "    return center_of_mass\n",
    "\n",
    "length_of_beam = 2.0\n",
    "result = center_of_mass_numerical(linear_mass_density, length_of_beam)\n",
    "\n",
    "print(f\"The center of mass is approximately {result:.4f} meters from one end.\")\n"
   ]
  },
  {
   "cell_type": "markdown",
   "metadata": {},
   "source": [
    "# 5."
   ]
  },
  {
   "cell_type": "code",
   "execution_count": 29,
   "metadata": {},
   "outputs": [
    {
     "name": "stdout",
     "output_type": "stream",
     "text": [
      "Solution for variables a1, a2, a3, a4, a5, a6:\n",
      "[-1.761817043997862, 0.8962280338740133, 4.051931404116158, -1.6171308025395421, 2.041913538501913, 0.15183248715593525]\n"
     ]
    }
   ],
   "source": [
    "def lu_decomposition_solve(A, b, n):\n",
    "    L = [[0 for x in range(n)] for y in range(n)]\n",
    "    U = [[0 for x in range(n)] for y in range(n)]\n",
    "\n",
    "    for j in range(0, n):\n",
    "        for i in range(0, n):\n",
    "            sum = 0\n",
    "            for k in range(0, i):\n",
    "                sum += L[i][k] * U[k][j]\n",
    "            U[i][j] = A[i][j] - sum\n",
    "\n",
    "        for i in range(0, n):\n",
    "            sum = 0\n",
    "            for k in range(0, j):\n",
    "                sum += L[i][k] * U[k][j]\n",
    "            L[i][j] = (1 / U[j][j]) * (A[i][j] - sum)\n",
    "\n",
    "    for i in range(0, n):\n",
    "        sum = 0\n",
    "        for j in range(0, i):\n",
    "            sum += L[i][j] * b[j]\n",
    "        b[i] = b[i] - sum\n",
    "\n",
    "    for i in range(n - 1, -1, -1):\n",
    "        sum = 0\n",
    "        for j in range(i + 1, n):\n",
    "            sum += U[i][j] * b[j]\n",
    "        b[i] = (b[i] - sum) / U[i][i]\n",
    "\n",
    "    return b\n",
    "\n",
    "# Coefficient matrix A and right-hand side B\n",
    "A = [[1, -1, 4, 0, 2, 9],\n",
    "     [0, 5, -2, 7, 8, 4],\n",
    "     [1, 0, 5, 7, 3, -2],\n",
    "     [6, -1, 2, 3, 0, 8],\n",
    "     [-4, 2, 0, 5, -5, 3],\n",
    "     [0, 7, -1, 5, 4, -2]]\n",
    "\n",
    "B = [19, 2, 13, -7, -9, 2]\n",
    "\n",
    "# Solve the system using LU decomposition\n",
    "solution = lu_decomposition_solve(A, B, len(B))\n",
    "\n",
    "# Print the solution\n",
    "print(\"Solution for variables a1, a2, a3, a4, a5, a6:\")\n",
    "print(solution)\n"
   ]
  }
 ],
 "metadata": {
  "kernelspec": {
   "display_name": "Python 3",
   "language": "python",
   "name": "python3"
  },
  "language_info": {
   "codemirror_mode": {
    "name": "ipython",
    "version": 3
   },
   "file_extension": ".py",
   "mimetype": "text/x-python",
   "name": "python",
   "nbconvert_exporter": "python",
   "pygments_lexer": "ipython3",
   "version": "3.9.2"
  }
 },
 "nbformat": 4,
 "nbformat_minor": 2
}
